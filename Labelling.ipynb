{
 "cells": [
  {
   "cell_type": "code",
   "execution_count": 1,
   "metadata": {},
   "outputs": [],
   "source": [
    "import os\n",
    "import pandas as pd\n",
    "import numpy as np"
   ]
  },
  {
   "cell_type": "code",
   "execution_count": 2,
   "metadata": {},
   "outputs": [
    {
     "name": "stdout",
     "output_type": "stream",
     "text": [
      "Current working directory: C:\\Users\\Andreas\\Desktop\\Thesis\\Data\n"
     ]
    }
   ],
   "source": [
    "# Change root directory\n",
    "dirPath = r'C:\\Users\\Andreas\\Desktop\\Thesis\\Data'\n",
    "os.chdir(dirPath)\n",
    "print('Current working directory: {0}'.format(os.getcwd()))"
   ]
  },
  {
   "cell_type": "code",
   "execution_count": 8,
   "metadata": {},
   "outputs": [],
   "source": [
    "def read_json(dirPath = dirPath):\n",
    "    labels = pd.DataFrame()\n",
    "    for file in os.listdir(dirPath):\n",
    "        if 'project' in file:\n",
    "            json_table = pd.read_json(dirPath+'\\\\'+file)\n",
    "            json_table = json_table[['csv', 'label']]\n",
    "    \n",
    "    for _, row in json_table.iterrows():\n",
    "        subjectName = row.csv.split('/')[5]\n",
    "        exerciseName = row.csv.split('/')[6]\n",
    "        \n",
    "        rep = 0\n",
    "        for item in row.label:\n",
    "                start = item['start']\n",
    "                end = item['end']\n",
    "                label = item['timeserieslabels'][0]\n",
    "\n",
    "                if label == 'idle':\n",
    "                    dict = {'subject':subjectName,'exercise':exerciseName,'start':start,'end':end,'label':label, 'rep': 0}\n",
    "                else:\n",
    "                    rep +=1\n",
    "                    dict = {'subject':subjectName,'exercise':exerciseName,'start':start,'end':end,'label':label, 'rep': rep}\n",
    "                     \n",
    "                labels = pd.concat([labels, pd.DataFrame(dict,index=[0])],ignore_index=True)\n",
    "    \n",
    "    labels = labels.drop(labels[labels.label == 'idle'].index)\n",
    "    labels = labels.drop(labels[labels.label == 'TBD'].index)\n",
    "\n",
    "    dt = labels.end - labels.start\n",
    "    print(dt.describe())\n",
    "    labels = labels.loc[dt>dt.quantile(.05)]\n",
    "    labels = labels.loc[dt<dt.quantile(.95)]\n",
    "\n",
    "    dt = labels.end - labels.start\n",
    "    print(dt.describe())\n",
    "\n",
    "    return labels"
   ]
  },
  {
   "cell_type": "code",
   "execution_count": 9,
   "metadata": {},
   "outputs": [
    {
     "name": "stdout",
     "output_type": "stream",
     "text": [
      "count    1059.000000\n",
      "mean        2.582049\n",
      "std         0.569521\n",
      "min         1.140000\n",
      "25%         2.200000\n",
      "50%         2.510000\n",
      "75%         2.920000\n",
      "max         5.520000\n",
      "dtype: float64\n",
      "count    952.000000\n",
      "mean       2.563487\n",
      "std        0.436582\n",
      "min        1.800000\n",
      "25%        2.230000\n",
      "50%        2.515000\n",
      "75%        2.860000\n",
      "max        3.600000\n",
      "dtype: float64\n"
     ]
    }
   ],
   "source": [
    "labels = read_json()"
   ]
  },
  {
   "cell_type": "code",
   "execution_count": 5,
   "metadata": {},
   "outputs": [],
   "source": [
    "labels = labels.replace('correct', 'Correct repetition')\n",
    "\n",
    "labels = labels.replace('knee_valgus', 'Knees caving inwards')\n",
    "labels = labels.replace('discreet_motion', 'Hips rising before torso')\n",
    "labels = labels.replace('spine_flexion', 'Back rounding')\n",
    "labels = labels.replace('spine_extension', 'Back arching')\n",
    "\n",
    "labels = labels.replace('pelvis_tilt', 'Back arching')\n",
    "labels = labels.replace('incomplete', 'Insufficient ROM')\n",
    "labels = labels.replace('knee_flexion', 'Feet too close')\n",
    "labels = labels.replace('knee_extension', 'Feet too far')\n",
    "\n",
    "labels = labels.replace('knee_touch', 'Knee touching the ground')\n",
    "labels = labels.replace('short_step', 'Stride too short')\n",
    "labels = labels.replace('forward_centre', 'Leaning forward')\n",
    "labels = labels.replace('imbalance', 'Feet on the same line')"
   ]
  },
  {
   "cell_type": "code",
   "execution_count": 6,
   "metadata": {},
   "outputs": [],
   "source": [
    "def label_csv(dirPath=dirPath, sample = 'all', exercise='all'):\n",
    "    root = dirPath+'\\\\'+'Synchronized'\n",
    "    total_size = 0\n",
    "    for samplefolder in os.listdir(root):\n",
    "        if sample in samplefolder or sample == 'all':\n",
    "            sample_group = labels.loc[labels.subject == samplefolder]\n",
    "\n",
    "            for exercisefolder in os.listdir(root+'\\\\'+samplefolder):\n",
    "                if exercise in exercisefolder or exercise == 'all':\n",
    "                    exercise_group = sample_group.loc[sample_group.exercise == exercisefolder]\n",
    "\n",
    "                    if exercise_group.empty:\n",
    "                        print(samplefolder+exercisefolder+' is not annotated')\n",
    "                    else:\n",
    "                        for file in os.listdir(root+'\\\\'+samplefolder+'\\\\'+exercisefolder):\n",
    "                            if '.csv' in file:\n",
    "                                    csv_path = root+'\\\\'+samplefolder+'\\\\'+exercisefolder+'\\\\'+file\n",
    "\n",
    "                                    data = pd.read_csv(csv_path, delimiter=',', encoding = 'utf-8')\n",
    "\n",
    "                                    file_size = len(data)\n",
    "                                    total_size = total_size + file_size\n",
    "                                    data.insert(len(data.columns),'label','Unassigned')\n",
    "                                    data.insert(len(data.columns),'rep',0)\n",
    "                                \n",
    "                                    for _, row in exercise_group.iterrows():\n",
    "                                        data.loc[(data.t > row.start) & (data.t < row.end), 'label'] = row.label\n",
    "                                        data.loc[(data.t > row.start) & (data.t < row.end), 'rep'] = row.rep\n",
    "\n",
    "                                    new_root = dirPath+'\\\\'+'Labelled'+'\\\\'+samplefolder+'\\\\'+exercisefolder\n",
    "\n",
    "                                    if not os.path.exists(new_root):\n",
    "                                        os.makedirs(new_root)\n",
    "\n",
    "                                    data.drop(data[data.label == 'Unassigned'].index, inplace = True)\n",
    "                                    data.to_csv(new_root+'\\\\'+file, sep=',', index=False)\n",
    "\n",
    "    print(total_size)                           "
   ]
  },
  {
   "cell_type": "code",
   "execution_count": 7,
   "metadata": {},
   "outputs": [
    {
     "name": "stdout",
     "output_type": "stream",
     "text": [
      "4949056\n"
     ]
    }
   ],
   "source": [
    "label_csv()"
   ]
  }
 ],
 "metadata": {
  "kernelspec": {
   "display_name": "Python 3",
   "language": "python",
   "name": "python3"
  },
  "language_info": {
   "codemirror_mode": {
    "name": "ipython",
    "version": 3
   },
   "file_extension": ".py",
   "mimetype": "text/x-python",
   "name": "python",
   "nbconvert_exporter": "python",
   "pygments_lexer": "ipython3",
   "version": "3.9.7"
  },
  "orig_nbformat": 4
 },
 "nbformat": 4,
 "nbformat_minor": 2
}
