{
 "cells": [
  {
   "cell_type": "code",
   "execution_count": 2,
   "metadata": {},
   "outputs": [],
   "source": [
    "import os\n",
    "import shutil\n",
    "import json"
   ]
  },
  {
   "cell_type": "code",
   "execution_count": 3,
   "metadata": {},
   "outputs": [
    {
     "name": "stdout",
     "output_type": "stream",
     "text": [
      "Current working directory: C:\\Users\\Andreas\\Desktop\\Thesis\\Data\n"
     ]
    }
   ],
   "source": [
    "# Change root directory\n",
    "dirPath = r'C:\\Users\\Andreas\\Desktop\\Thesis\\Data'\n",
    "os.chdir(dirPath)\n",
    "print('Current working directory: {0}'.format(os.getcwd()))"
   ]
  },
  {
   "cell_type": "code",
   "execution_count": 8,
   "metadata": {},
   "outputs": [],
   "source": [
    "# <View>\n",
    "#   <TimeSeriesLabels name=\"label\" toName=\"ts\">\n",
    "#     <!-- General -->\n",
    "#     <Label value=\"correct\" background=\"#49fc03\"/>\n",
    "#     <Label value=\"rep\" background=\"#87888a\"/>\n",
    "#     <Label value=\"TBD\" background=\"#f5ef45\"/>\n",
    "#     <!-- Squats -->\n",
    "#     <Label value=\"knee_valgus\" background=\"#fc0505\"/>\n",
    "#     <Label value=\"spine_flexion\" background=\"#05f8fc\"/>\n",
    "#     <Label value=\"spine_extension\" background=\"#9d05fc\"/>\n",
    "#     <Label value=\"discreet_motion\" background=\"#fc7c05\"/>\n",
    "#     <!-- Lunges -->\n",
    "#     <Label value=\"knee_valgus\" background=\"#fc0505\"/>\n",
    "#     <Label value=\"spine_flexion\" background=\"#05f8fc\"/>\n",
    "#     <Label value=\"short_step\" background=\"#9d05fc\"/>\n",
    "#     <Label value=\"knee_touch\" background=\"#fc7c05\"/>\n",
    "#     <!-- Bridges -->\n",
    "#     <Label value=\"spine_extension\" background=\"#fc0505\"/>\n",
    "#     <Label value=\"knee_extension\" background=\"#05f8fc\"/>\n",
    "#     <Label value=\"knee_flexion\" background=\"#9d05fc\"/>\n",
    "#     <Label value=\"incomplete\" background=\"#fc7c05\"/>\n",
    "    \n",
    "#   </TimeSeriesLabels>\n",
    "#   <HyperText name=\"video\" value=\"$video\" inline=\"true\"/>\n",
    "#   <TimeSeries name=\"ts\" value=\"$csv\" valueType=\"url\" timeColumn=\"Timestamp (s)\">\n",
    "#     <Channel column=\" accX (g)\" displayFormat=\",.1f\" strokeColor=\"#ff0000\" legend=\" accX\"/>\n",
    "#     <Channel column=\" accY (g)\" displayFormat=\",.1f\" strokeColor=\"#00ff00\" legend=\" accY\"/>\n",
    "#     <Channel column=\" accZ (g)\" displayFormat=\",.1f\" strokeColor=\"#1f77b4\" legend=\" accZ\"/>\n",
    "#   </TimeSeries>\n",
    "# </View>"
   ]
  },
  {
   "cell_type": "code",
   "execution_count": 4,
   "metadata": {},
   "outputs": [],
   "source": [
    "def copy_mp4(dirPath=dirPath, sample = 'all', exercise='all'):\n",
    "    root = dirPath+'\\\\'+'Raw'\n",
    "    for samplefolder in os.listdir(root):\n",
    "        if sample in samplefolder or sample == 'all':\n",
    "\n",
    "            for exercisefolder in os.listdir(root+'\\\\'+samplefolder):\n",
    "                if exercise in exercisefolder or exercise == 'all':\n",
    "                    \n",
    "                    for file in os.listdir(root+'\\\\'+samplefolder+'\\\\'+exercisefolder):\n",
    "                        src = root+'\\\\'+samplefolder+'\\\\'+exercisefolder+'\\\\'+file\n",
    "                        if '.mp4' in file:\n",
    "                            new_root = dirPath+'\\\\'+'ToBeLabelled'+'\\\\'+samplefolder+'\\\\'+exercisefolder\n",
    "                            if not os.path.exists(new_root):\n",
    "                                os.makedirs(new_root)\n",
    "                            \n",
    "                            dst = new_root+'\\\\'+'video.mp4'\n",
    "                            shutil.copyfile(src, dst)"
   ]
  },
  {
   "cell_type": "code",
   "execution_count": 5,
   "metadata": {},
   "outputs": [],
   "source": [
    "def copy_csv(dirPath=dirPath, sample = 'all', exercise='all'):\n",
    "    root = dirPath+'\\\\'+'Synchronized'\n",
    "    for samplefolder in os.listdir(root):\n",
    "        if sample in samplefolder or sample == 'all':\n",
    "\n",
    "            for exercisefolder in os.listdir(root+'\\\\'+samplefolder):\n",
    "                if exercise in exercisefolder or exercise == 'all':\n",
    "                    \n",
    "                    for file in os.listdir(root+'\\\\'+samplefolder+'\\\\'+exercisefolder):\n",
    "                        src = root+'\\\\'+samplefolder+'\\\\'+exercisefolder+'\\\\'+file\n",
    "                        if 'accelerometer.csv' in file:\n",
    "                            new_root = dirPath+'\\\\'+'ToBeLabelled'+'\\\\'+samplefolder+'\\\\'+exercisefolder\n",
    "                            if not os.path.exists(new_root):\n",
    "                                os.makedirs(new_root)\n",
    "                            \n",
    "                            dst = new_root+'\\\\'+'Acc.csv'\n",
    "                            shutil.copyfile(src, dst)"
   ]
  },
  {
   "cell_type": "code",
   "execution_count": 10,
   "metadata": {},
   "outputs": [],
   "source": [
    "copy_mp4(sample='13')\n",
    "copy_csv(sample='13')"
   ]
  },
  {
   "cell_type": "code",
   "execution_count": 7,
   "metadata": {},
   "outputs": [],
   "source": [
    "def labelling_json(dirPath=dirPath, sample = 'all', exercise='all'):\n",
    "    root = dirPath+'\\\\'+'ToBeLabelled'\n",
    "    for samplefolder in os.listdir(root):\n",
    "        if sample in samplefolder or sample == 'all':\n",
    "\n",
    "            for exercisefolder in os.listdir(root+'\\\\'+samplefolder):\n",
    "                if exercise in exercisefolder or exercise == 'all':\n",
    "                    # {\"csv\": \"gs://thesis_data_bodyweight_exercises/lower_body_exercises/accelerometer.csv?time=t values=x,y,z\",\"video\": \"<video src='gs://thesis_data_bodyweight_exercises/lower_body_exercises/video.mp4' width='100%' controls onloadeddata=\\\"setTimeout(function(){ts=Htx.annotationStore.selected.names.get('ts');t=ts.data.t;v=document.getElementsByTagName('video')[0];w=parseInt(t.length*(5/v.duration));l=t.length-w;ts.updateTR([t[0], t[w]], 1.001);r=$=>ts.brushRange.map(n=>(+n).toFixed(2));_=r();setInterval($=>r().some((n,i)=>n!==_[i])&&(_=r())&&(v.currentTime=v.duration*(r()[0]-t[0])/(t.slice(-1)[0]-t[0]-(r()[1]-r()[0]))),300); console.log('video is loaded, starting to sync with time series')}, 3000); \\\" />\"}\n",
    "                    csv = \"gs://thesis_data_bodyweight_exercises/lower_body_exercises/ToBeLabelled/{}/{}/Acc.csv?time=t values=x,y,z\".format(samplefolder, exercisefolder)\n",
    "                    video = \"<video src='gs://thesis_data_bodyweight_exercises/lower_body_exercises/ToBeLabelled/{}/{}/video.mp4'\".format(samplefolder,exercisefolder)+\\\n",
    "                    \" width='100%' controls onloadeddata=\\\"setTimeout(function(){{ts=Htx.annotationStore.selected.names.get('ts');t=ts.data.t;v=document.getElementsByTagName('video')[0];w=parseInt(t.length*(5/v.duration));l=t.length-w;ts.updateTR([t[0], t[w]], 1.001);r=$=>\\nts.brushRange.map(n=>(+n).toFixed(2));_=r();setInterval($=>r().some((n,i)=>n!==_[i])&&(_=r())&&(v.currentTime=v.duration*(r()[0]-t[0])/(t.slice(-1)[0]-t[0]-(r()[1]-r()[0]))),300); console.log('video is loaded, starting to sync with time series')}}, 3000); \\\" />\".format(samplefolder, exercisefolder)\n",
    "\n",
    "                    json_dict = {\"csv\":csv, \"video\":video}\n",
    "                    dst =dirPath+'\\\\'+\"{}_{}.json\".format(samplefolder, exercisefolder)\n",
    "                    \n",
    "                    with open(dst, \"w\") as file:\n",
    "                        file.write(json.dumps(json_dict).replace(r'\\n', '\\n'))"
   ]
  },
  {
   "cell_type": "code",
   "execution_count": 13,
   "metadata": {},
   "outputs": [],
   "source": [
    "labelling_json(sample='13')"
   ]
  }
 ],
 "metadata": {
  "kernelspec": {
   "display_name": "Python 3",
   "language": "python",
   "name": "python3"
  },
  "language_info": {
   "codemirror_mode": {
    "name": "ipython",
    "version": 3
   },
   "file_extension": ".py",
   "mimetype": "text/x-python",
   "name": "python",
   "nbconvert_exporter": "python",
   "pygments_lexer": "ipython3",
   "version": "3.9.7"
  },
  "orig_nbformat": 4
 },
 "nbformat": 4,
 "nbformat_minor": 2
}
